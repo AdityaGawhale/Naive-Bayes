{
  "nbformat": 4,
  "nbformat_minor": 0,
  "metadata": {
    "kernelspec": {
      "display_name": "Python 3",
      "language": "python",
      "name": "python3"
    },
    "language_info": {
      "codemirror_mode": {
        "name": "ipython",
        "version": 3
      },
      "file_extension": ".py",
      "mimetype": "text/x-python",
      "name": "python",
      "nbconvert_exporter": "python",
      "pygments_lexer": "ipython3",
      "version": "3.7.1"
    },
    "colab": {
      "name": "GaussianNaiveBayes.ipynb",
      "provenance": [],
      "collapsed_sections": []
    }
  },
  "cells": [
    {
      "cell_type": "code",
      "metadata": {
        "id": "QAcIUaKesR4I"
      },
      "source": [
        "import pandas as pd\n",
        "import numpy as np"
      ],
      "execution_count": null,
      "outputs": []
    },
    {
      "cell_type": "markdown",
      "metadata": {
        "id": "0Qe8BWNtsR4U"
      },
      "source": [
        "Adult data set from uci website read and column names initialized (Contains Categorical and Continuous data)"
      ]
    },
    {
      "cell_type": "code",
      "metadata": {
        "id": "yWVPxLyjsR4V"
      },
      "source": [
        "df=pd.read_csv(\"https://archive.ics.uci.edu/ml/machine-learning-databases/adult/adult.data\",header=None)\n",
        "names=['age','workclass','fnlwgt','education','education-num','marital-status','occupation','relationship','race','sex','capital-gain','capital-loss','hours-per-week','native-country','salary']\n",
        "df.columns=names"
      ],
      "execution_count": null,
      "outputs": []
    },
    {
      "cell_type": "markdown",
      "metadata": {
        "id": "Dxns5lsNsR4W"
      },
      "source": [
        "miss_col gives columns having values '?'\n",
        "\n",
        "Each column of DataFrame is a series and each '?' in a series is replaced by the mode of that series (most occuring value in that series)\n",
        "\n",
        "The above tasks fill the missing data in Adult dataset "
      ]
    },
    {
      "cell_type": "code",
      "metadata": {
        "id": "zt-Kl86DsR4X"
      },
      "source": [
        "miss_col=[]\n",
        "for column in df.columns:\n",
        "    try:\n",
        "        data= df[df[column]==' ?']\n",
        "        if data.shape[0]>0:\n",
        "            miss_col.append(column)\n",
        "            \n",
        "    except:\n",
        "        continue;\n",
        "\n",
        "for i in miss_col:\n",
        "    df[i].replace(' ?',df[i].mode()[0], inplace=True)"
      ],
      "execution_count": null,
      "outputs": []
    },
    {
      "cell_type": "markdown",
      "metadata": {
        "id": "UsXrG-3ksR4X"
      },
      "source": [
        "Columns having Continuous data is made as new DataFrame df_numeric"
      ]
    },
    {
      "cell_type": "code",
      "metadata": {
        "colab": {
          "base_uri": "https://localhost:8080/"
        },
        "id": "L4LBgnaYsR4Y",
        "outputId": "39a4d447-5ac3-4dd3-a15d-e38c0dcd0688"
      },
      "source": [
        "df_numeric=df[df._get_numeric_data().columns]\n",
        "df_numeric['salary']=df['salary']"
      ],
      "execution_count": null,
      "outputs": [
        {
          "output_type": "stream",
          "text": [
            "/usr/local/lib/python3.6/dist-packages/ipykernel_launcher.py:2: SettingWithCopyWarning: \n",
            "A value is trying to be set on a copy of a slice from a DataFrame.\n",
            "Try using .loc[row_indexer,col_indexer] = value instead\n",
            "\n",
            "See the caveats in the documentation: https://pandas.pydata.org/pandas-docs/stable/user_guide/indexing.html#returning-a-view-versus-a-copy\n",
            "  \n"
          ],
          "name": "stderr"
        }
      ]
    },
    {
      "cell_type": "markdown",
      "metadata": {
        "id": "njE7gNddsR4Y"
      },
      "source": [
        "Train-Test Split the adult dataset (continuous input attributes and output attribute/column) using sklearn\n",
        "\n",
        "XTrain gives training data on which algorithm is trained on \n",
        "\n",
        "xtest gives testing data on which algorithm is tested on \n",
        "\n",
        "Ytrain gives output column for prediction derived from training data\n",
        "\n",
        "ytest gives output column to be checked for prediction derived from testing data and calculate accuracy of algorithm"
      ]
    },
    {
      "cell_type": "code",
      "metadata": {
        "id": "wpbaSOkWsR4Z"
      },
      "source": [
        "from sklearn.model_selection import train_test_split\n",
        "\n",
        "X_train, X_test, y_train, y_test = train_test_split(df_numeric[df_numeric.columns.drop('salary')], df_numeric['salary'], test_size=0.30)\n",
        "\n",
        "XTrain=X_train.reset_index(drop=True)\n",
        "YTrain=y_train.reset_index(drop=True)\n",
        "ytest=y_test.reset_index(drop=True)\n",
        "xtest=X_test.reset_index(drop=True)"
      ],
      "execution_count": null,
      "outputs": []
    },
    {
      "cell_type": "markdown",
      "metadata": {
        "id": "2FLId8MYsR4Z"
      },
      "source": [
        "GaussainNB algorithm is imported from sklearn.naive_bayes library, fit (get mean and vareinace required for using algorithm) and predict functions (calculate probability of an output value given input) used\n",
        ", time taken mentioned below"
      ]
    },
    {
      "cell_type": "code",
      "metadata": {
        "colab": {
          "base_uri": "https://localhost:8080/"
        },
        "id": "Y15CuQk4sR4a",
        "outputId": "618cb595-2558-49f1-ad9a-ccbeee1c705c"
      },
      "source": [
        "%%time\n",
        "\n",
        "from sklearn.naive_bayes import GaussianNB\n",
        "gnb = GaussianNB()\n",
        "gnb.fit(XTrain,YTrain)\n",
        "predict1=gnb.predict(xtest)"
      ],
      "execution_count": null,
      "outputs": [
        {
          "output_type": "stream",
          "text": [
            "CPU times: user 36.2 ms, sys: 717 µs, total: 37 ms\n",
            "Wall time: 41.9 ms\n"
          ],
          "name": "stdout"
        }
      ]
    },
    {
      "cell_type": "markdown",
      "metadata": {
        "id": "asofOBItsR4c"
      },
      "source": [
        "predict1 returns predictions made by GaussianNB and this is internally called by score function of GaussianNB algorithm\n",
        "predictions made by GaussianNB for xtest data is compared with ytest to get accuracy\n",
        "\n",
        "accuracy is 79%"
      ]
    },
    {
      "cell_type": "code",
      "metadata": {
        "colab": {
          "base_uri": "https://localhost:8080/"
        },
        "id": "dBpIhBkKsR4c",
        "outputId": "085a6656-33ca-404c-e39f-f277f3dc6432"
      },
      "source": [
        "print(gnb.score(xtest,ytest))"
      ],
      "execution_count": null,
      "outputs": [
        {
          "output_type": "stream",
          "text": [
            "0.7914832633841744\n"
          ],
          "name": "stdout"
        }
      ]
    }
  ]
}