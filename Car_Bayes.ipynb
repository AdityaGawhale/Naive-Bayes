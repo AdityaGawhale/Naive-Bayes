{
  "nbformat": 4,
  "nbformat_minor": 0,
  "metadata": {
    "kernelspec": {
      "display_name": "Python 3",
      "language": "python",
      "name": "python3"
    },
    "language_info": {
      "codemirror_mode": {
        "name": "ipython",
        "version": 3
      },
      "file_extension": ".py",
      "mimetype": "text/x-python",
      "name": "python",
      "nbconvert_exporter": "python",
      "pygments_lexer": "ipython3",
      "version": "3.7.1"
    },
    "colab": {
      "name": "Car_Bayes.ipynb",
      "provenance": [],
      "collapsed_sections": []
    }
  },
  "cells": [
    {
      "cell_type": "markdown",
      "metadata": {
        "id": "4YNvLPhzYzMP"
      },
      "source": [
        "###**Custom Implementation, working of Naive Bayes algorithm shown with a simple example**  "
      ]
    },
    {
      "cell_type": "code",
      "metadata": {
        "id": "0fWrbyNXNy_8"
      },
      "source": [
        "import pandas as pd\n",
        "import numpy as np"
      ],
      "execution_count": null,
      "outputs": []
    },
    {
      "cell_type": "markdown",
      "metadata": {
        "id": "uqkxZ9EiOFlR"
      },
      "source": [
        "Random csv file with following entries"
      ]
    },
    {
      "cell_type": "code",
      "metadata": {
        "id": "JnJjcz1bNzAB",
        "outputId": "3b858c3b-9c27-4dd8-845b-5ceee2f78f45"
      },
      "source": [
        "df=pd.read_csv(\"C:/Users/Aditya/Desktop/Car.csv\")\n",
        "df=df.head(7)\n",
        "#Training data\n",
        "df"
      ],
      "execution_count": null,
      "outputs": [
        {
          "output_type": "execute_result",
          "data": {
            "text/html": [
              "<div>\n",
              "<style scoped>\n",
              "    .dataframe tbody tr th:only-of-type {\n",
              "        vertical-align: middle;\n",
              "    }\n",
              "\n",
              "    .dataframe tbody tr th {\n",
              "        vertical-align: top;\n",
              "    }\n",
              "\n",
              "    .dataframe thead th {\n",
              "        text-align: right;\n",
              "    }\n",
              "</style>\n",
              "<table border=\"1\" class=\"dataframe\">\n",
              "  <thead>\n",
              "    <tr style=\"text-align: right;\">\n",
              "      <th></th>\n",
              "      <th>Color</th>\n",
              "      <th>Type</th>\n",
              "      <th>Origin</th>\n",
              "      <th>Stolen</th>\n",
              "    </tr>\n",
              "  </thead>\n",
              "  <tbody>\n",
              "    <tr>\n",
              "      <th>0</th>\n",
              "      <td>Red</td>\n",
              "      <td>Sports</td>\n",
              "      <td>Domestic</td>\n",
              "      <td>Yes</td>\n",
              "    </tr>\n",
              "    <tr>\n",
              "      <th>1</th>\n",
              "      <td>Red</td>\n",
              "      <td>Sports</td>\n",
              "      <td>Domestic</td>\n",
              "      <td>No</td>\n",
              "    </tr>\n",
              "    <tr>\n",
              "      <th>2</th>\n",
              "      <td>Red</td>\n",
              "      <td>Sports</td>\n",
              "      <td>Domestic</td>\n",
              "      <td>Yes</td>\n",
              "    </tr>\n",
              "    <tr>\n",
              "      <th>3</th>\n",
              "      <td>Yellow</td>\n",
              "      <td>Sports</td>\n",
              "      <td>Domestic</td>\n",
              "      <td>No</td>\n",
              "    </tr>\n",
              "    <tr>\n",
              "      <th>4</th>\n",
              "      <td>Yellow</td>\n",
              "      <td>Sports</td>\n",
              "      <td>Imported</td>\n",
              "      <td>Yes</td>\n",
              "    </tr>\n",
              "    <tr>\n",
              "      <th>5</th>\n",
              "      <td>Yellow</td>\n",
              "      <td>SUV</td>\n",
              "      <td>Imported</td>\n",
              "      <td>No</td>\n",
              "    </tr>\n",
              "    <tr>\n",
              "      <th>6</th>\n",
              "      <td>Yellow</td>\n",
              "      <td>SUV</td>\n",
              "      <td>Imported</td>\n",
              "      <td>Yes</td>\n",
              "    </tr>\n",
              "  </tbody>\n",
              "</table>\n",
              "</div>"
            ],
            "text/plain": [
              "    Color    Type    Origin Stolen\n",
              "0     Red  Sports  Domestic    Yes\n",
              "1     Red  Sports  Domestic     No\n",
              "2     Red  Sports  Domestic    Yes\n",
              "3  Yellow  Sports  Domestic     No\n",
              "4  Yellow  Sports  Imported    Yes\n",
              "5  Yellow     SUV  Imported     No\n",
              "6  Yellow     SUV  Imported    Yes"
            ]
          },
          "metadata": {
            "tags": []
          },
          "execution_count": 8
        }
      ]
    },
    {
      "cell_type": "code",
      "metadata": {
        "id": "1H8Y-WJINzAC",
        "outputId": "863adfd0-7aa8-465b-c6c7-0c1be043e39c"
      },
      "source": [
        "Test=df.tail(3)\n",
        "Test=Test.reset_index(drop=True)\n",
        "#Test data\n",
        "Test"
      ],
      "execution_count": null,
      "outputs": [
        {
          "output_type": "execute_result",
          "data": {
            "text/html": [
              "<div>\n",
              "<style scoped>\n",
              "    .dataframe tbody tr th:only-of-type {\n",
              "        vertical-align: middle;\n",
              "    }\n",
              "\n",
              "    .dataframe tbody tr th {\n",
              "        vertical-align: top;\n",
              "    }\n",
              "\n",
              "    .dataframe thead th {\n",
              "        text-align: right;\n",
              "    }\n",
              "</style>\n",
              "<table border=\"1\" class=\"dataframe\">\n",
              "  <thead>\n",
              "    <tr style=\"text-align: right;\">\n",
              "      <th></th>\n",
              "      <th>Color</th>\n",
              "      <th>Type</th>\n",
              "      <th>Origin</th>\n",
              "      <th>Stolen</th>\n",
              "    </tr>\n",
              "  </thead>\n",
              "  <tbody>\n",
              "    <tr>\n",
              "      <th>0</th>\n",
              "      <td>Yellow</td>\n",
              "      <td>Sports</td>\n",
              "      <td>Imported</td>\n",
              "      <td>Yes</td>\n",
              "    </tr>\n",
              "    <tr>\n",
              "      <th>1</th>\n",
              "      <td>Yellow</td>\n",
              "      <td>SUV</td>\n",
              "      <td>Imported</td>\n",
              "      <td>No</td>\n",
              "    </tr>\n",
              "    <tr>\n",
              "      <th>2</th>\n",
              "      <td>Yellow</td>\n",
              "      <td>SUV</td>\n",
              "      <td>Imported</td>\n",
              "      <td>Yes</td>\n",
              "    </tr>\n",
              "  </tbody>\n",
              "</table>\n",
              "</div>"
            ],
            "text/plain": [
              "    Color    Type    Origin Stolen\n",
              "0  Yellow  Sports  Imported    Yes\n",
              "1  Yellow     SUV  Imported     No\n",
              "2  Yellow     SUV  Imported    Yes"
            ]
          },
          "metadata": {
            "tags": []
          },
          "execution_count": 9
        }
      ]
    },
    {
      "cell_type": "code",
      "metadata": {
        "id": "oi-QHMgiNzAD",
        "outputId": "76a331e6-67c2-4911-bb8c-cf77577620f0"
      },
      "source": [
        "#Customize which column will be your target variable to be predicted\r\n",
        "Output_Column=input(\"Enter Output Column:\")"
      ],
      "execution_count": null,
      "outputs": [
        {
          "output_type": "stream",
          "text": [
            "Enter Output Column:Stolen\n"
          ],
          "name": "stdout"
        }
      ]
    },
    {
      "cell_type": "code",
      "metadata": {
        "id": "ehROf0oENzAE",
        "outputId": "c0f5b734-bad3-4932-b842-d05a4eda9abe"
      },
      "source": [
        "#All unique values of target variable\n",
        "output_val=df[Output_Column].value_counts().index\n",
        "print(output_val)"
      ],
      "execution_count": null,
      "outputs": [
        {
          "output_type": "stream",
          "text": [
            "Index(['Yes', 'No'], dtype='object')\n"
          ],
          "name": "stdout"
        }
      ]
    },
    {
      "cell_type": "code",
      "metadata": {
        "id": "XyF1SXb6NzAE",
        "outputId": "e57b8571-0bc3-4bc9-9ea4-d6f36beef5f8"
      },
      "source": [
        "#train_col contains our training data columns or predictor variable names\n",
        "train_col=df.columns.values\n",
        "#3rd column is target variable\n",
        "train_col=np.delete(train_col,3) \n",
        "train_col"
      ],
      "execution_count": null,
      "outputs": [
        {
          "output_type": "execute_result",
          "data": {
            "text/plain": [
              "array(['Color', 'Type', 'Origin'], dtype=object)"
            ]
          },
          "metadata": {
            "tags": []
          },
          "execution_count": 12
        }
      ]
    },
    {
      "cell_type": "code",
      "metadata": {
        "id": "f5B_qvI1NzAF",
        "outputId": "1a97f827-c471-4cb7-8762-0ad5103e444b"
      },
      "source": [
        "Dict1 = {}\n",
        "Dict2 = {}\n",
        "\n",
        "for k in train_col:\n",
        "    #train_val contains unique values of each column of training data\n",
        "    train_val=df[k].value_counts().index\n",
        "    for i in train_val:\n",
        "        for j in output_val:\n",
        "            #Probability of a particular target variable value occuring\n",
        "            Prob_Denom=df[df[Output_Column]==j].shape[0]/df.shape[0]\n",
        "            #print(Prob_Denom)\n",
        "        \n",
        "            #Probability of a particular predictor variable value and a target variable value occuring together in given data samples\n",
        "            Prob_Numer=df[(df[k]==i)&(df[Output_Column]==j)].shape[0]/df.shape[0]\n",
        "            #print(Prob_Numer)\n",
        "        \n",
        "            print('(',k,'=',i,'|Output=',j,\") =\",Prob_Numer/Prob_Denom)\n",
        "            \n",
        "            #Key of Dict2 is the unique value of target variable and the unique value of target variable appended to it as string, used to calculate probability\n",
        "            #Value in Dict 2 is probability of i (predictor variable value) given j (target variable value)\n",
        "            Dict2[i+j]=Prob_Numer/Prob_Denom\n",
        "            \n",
        "    #Key in Dict 1 is output column names stored in list3\n",
        "    #Value in Dict1 is Dict2 corresponding to output column k (probability of vehicle being robbed or not given attribute value k )\n",
        "    Dict1[k]=Dict2\n",
        "    \n",
        "print(Dict1)"
      ],
      "execution_count": null,
      "outputs": [
        {
          "output_type": "stream",
          "text": [
            "( Color = Yellow |Output= Yes ) = 0.5\n",
            "( Color = Yellow |Output= No ) = 0.6666666666666666\n",
            "( Color = Red |Output= Yes ) = 0.5\n",
            "( Color = Red |Output= No ) = 0.3333333333333333\n",
            "( Type = Sports |Output= Yes ) = 0.75\n",
            "( Type = Sports |Output= No ) = 0.6666666666666666\n",
            "( Type = SUV |Output= Yes ) = 0.25\n",
            "( Type = SUV |Output= No ) = 0.3333333333333333\n",
            "( Origin = Domestic |Output= Yes ) = 0.5\n",
            "( Origin = Domestic |Output= No ) = 0.6666666666666666\n",
            "( Origin = Imported |Output= Yes ) = 0.5\n",
            "( Origin = Imported |Output= No ) = 0.3333333333333333\n",
            "{'Color': {'YellowYes': 0.5, 'YellowNo': 0.6666666666666666, 'RedYes': 0.5, 'RedNo': 0.3333333333333333, 'SportsYes': 0.75, 'SportsNo': 0.6666666666666666, 'SUVYes': 0.25, 'SUVNo': 0.3333333333333333, 'DomesticYes': 0.5, 'DomesticNo': 0.6666666666666666, 'ImportedYes': 0.5, 'ImportedNo': 0.3333333333333333}, 'Type': {'YellowYes': 0.5, 'YellowNo': 0.6666666666666666, 'RedYes': 0.5, 'RedNo': 0.3333333333333333, 'SportsYes': 0.75, 'SportsNo': 0.6666666666666666, 'SUVYes': 0.25, 'SUVNo': 0.3333333333333333, 'DomesticYes': 0.5, 'DomesticNo': 0.6666666666666666, 'ImportedYes': 0.5, 'ImportedNo': 0.3333333333333333}, 'Origin': {'YellowYes': 0.5, 'YellowNo': 0.6666666666666666, 'RedYes': 0.5, 'RedNo': 0.3333333333333333, 'SportsYes': 0.75, 'SportsNo': 0.6666666666666666, 'SUVYes': 0.25, 'SUVNo': 0.3333333333333333, 'DomesticYes': 0.5, 'DomesticNo': 0.6666666666666666, 'ImportedYes': 0.5, 'ImportedNo': 0.3333333333333333}}\n"
          ],
          "name": "stdout"
        }
      ]
    },
    {
      "cell_type": "markdown",
      "metadata": {
        "id": "5hCjnAA3fJYf"
      },
      "source": [
        ""
      ]
    },
    {
      "cell_type": "code",
      "metadata": {
        "id": "hIatyIakNzAF",
        "outputId": "b3eaa4ce-e66a-48a1-c51b-1526c4a8fdc1"
      },
      "source": [
        "train_col=list(train_col)\n",
        "\n",
        "count=0\n",
        "\n",
        "for b in range(0,Test.shape[0]):\n",
        "    input_val=[]\n",
        "    for a in range(0,len(train_col)):\n",
        "        input_val.append(Test[train_col[a]][0])\n",
        "    #input_val contains predictor values for a given data sample (attributes that descibe a car)    \n",
        "    print(input_val)\n",
        "\n",
        "    val2=0.0\n",
        "    val2_val='a'\n",
        "    for i in output_val:\n",
        "        val1=1.0\n",
        "        for (j,k) in zip(train_col,input_val):\n",
        "            val1=Dict1[j][k+i]*val1\n",
        "            #Probability is being calculated for each outcome/target value given a particular value of input/predictor attribute value \n",
        "            print(j,k,i)\n",
        "         \n",
        "        #P(Output|Input1,Input2,...Inputn)=P(Input1,Input2,....Inputn|Output).P(Output)\n",
        "        val1=val1*df[df[Output_Column]==i].shape[0]/df.shape[0]\n",
        "\n",
        "        #Probabilities being compared of each outcome(Stolen or not) given the attributes of the car\n",
        "        if(val2<val1):\n",
        "            val2=val1\n",
        "            val2_val=i\n",
        "\n",
        "    print(\"The car is stolen ?\",val2_val)\n",
        "    if(val2_val==Test['Stolen'][b]):\n",
        "        count=count+1\n",
        "        \n",
        "#Check accuracy of prediction        \n",
        "print(\"Accuracy:\",(count/Test.shape[0]))        "
      ],
      "execution_count": null,
      "outputs": [
        {
          "output_type": "stream",
          "text": [
            "['Yellow', 'Sports', 'Imported']\n",
            "Color Yellow Yes\n",
            "Type Sports Yes\n",
            "Origin Imported Yes\n",
            "Color Yellow No\n",
            "Type Sports No\n",
            "Origin Imported No\n",
            "The car is stolen ? Yes\n",
            "['Yellow', 'Sports', 'Imported']\n",
            "Color Yellow Yes\n",
            "Type Sports Yes\n",
            "Origin Imported Yes\n",
            "Color Yellow No\n",
            "Type Sports No\n",
            "Origin Imported No\n",
            "The car is stolen ? Yes\n",
            "['Yellow', 'Sports', 'Imported']\n",
            "Color Yellow Yes\n",
            "Type Sports Yes\n",
            "Origin Imported Yes\n",
            "Color Yellow No\n",
            "Type Sports No\n",
            "Origin Imported No\n",
            "The car is stolen ? Yes\n",
            "Accuracy: 0.6666666666666666\n"
          ],
          "name": "stdout"
        }
      ]
    },
    {
      "cell_type": "markdown",
      "metadata": {
        "id": "eDpnz8L2jO5-"
      },
      "source": [
        "Accuracy is less because of less training samples"
      ]
    }
  ]
}