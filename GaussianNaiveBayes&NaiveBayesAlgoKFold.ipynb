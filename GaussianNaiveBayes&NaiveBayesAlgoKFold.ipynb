{
  "nbformat": 4,
  "nbformat_minor": 0,
  "metadata": {
    "kernelspec": {
      "display_name": "Python 3",
      "language": "python",
      "name": "python3"
    },
    "language_info": {
      "codemirror_mode": {
        "name": "ipython",
        "version": 3
      },
      "file_extension": ".py",
      "mimetype": "text/x-python",
      "name": "python",
      "nbconvert_exporter": "python",
      "pygments_lexer": "ipython3",
      "version": "3.7.1"
    },
    "colab": {
      "name": "GaussianNaiveBayes&NaiveBayesAlgoKFold.ipynb",
      "provenance": [],
      "collapsed_sections": []
    }
  },
  "cells": [
    {
      "cell_type": "markdown",
      "metadata": {
        "id": "RXZiavPyJ3gQ"
      },
      "source": [
        "###**Naive Bayes and Gaussian Naive Bayes Algorithm is implemented and combined to give probabilites when input data is categorical and continuous (with K-Fold cross validation for train-test split)**"
      ]
    },
    {
      "cell_type": "code",
      "metadata": {
        "id": "vD9weLp1J3gz"
      },
      "source": [
        "import pandas as pd\n",
        "import numpy as np\n",
        "import math\n",
        "\n",
        "df=pd.read_csv(\"https://archive.ics.uci.edu/ml/machine-learning-databases/adult/adult.data\",header=None)\n",
        "\n",
        "names=['age','workclass','fnlwgt','education','education-num','marital-status','occupation','relationship','race','sex','capital-gain','capital-loss','hours-per-week','native-country','salary']\n",
        "df.columns=names"
      ],
      "execution_count": 7,
      "outputs": []
    },
    {
      "cell_type": "markdown",
      "metadata": {
        "id": "8dusDepUJ3g3"
      },
      "source": [
        "miss_col gives columns having values '?'\n",
        "\n",
        "Each column of DataFrame is a series and each '?' in a series is replaced by the mode of that series (most occuring value in that series)\n",
        "\n",
        "The above tasks fill the missing data in Adult dataset "
      ]
    },
    {
      "cell_type": "code",
      "metadata": {
        "id": "R0WKWsvsJ3g5"
      },
      "source": [
        "miss_col=[]\n",
        "for column in df.columns:\n",
        "    try:\n",
        "        data= df[df[column]==' ?']\n",
        "        if data.shape[0]>0:\n",
        "            miss_col.append(column)\n",
        "            \n",
        "    except:\n",
        "        continue;\n",
        "\n",
        "for i in miss_col:\n",
        "    df[i].replace(' ?',df[i].mode()[0], inplace=True)"
      ],
      "execution_count": 8,
      "outputs": []
    },
    {
      "cell_type": "markdown",
      "metadata": {
        "id": "mrHy1OT0J3g7"
      },
      "source": [
        "df_train_cont has training data\n",
        "\n",
        "data['Mean'] is mean of given column values corresponding to an output value (eg: age <=50K) i.e in same row\n",
        "data['Var'] is variance of given column values corresponding to an output value (eg: age <=50K) i.e in same row\n",
        "\n",
        "all this is stored in Dict key is 'column_name''Output_Value' and value is mean and variance of those values of column_name corresponding to Output_Value (in same row)\n",
        "\n",
        "This is the role of Fit_cont function"
      ]
    },
    {
      "cell_type": "code",
      "metadata": {
        "id": "0j85XCW8J3g9"
      },
      "source": [
        "def Fit_cont(X_train_cont,YTrain):\n",
        "    Dict={}\n",
        "    \n",
        "    df_train_cont=X_train_cont.copy()\n",
        "    df_train_cont['salary']=YTrain \n",
        "    \n",
        "    for i in YTrain.value_counts().index:\n",
        "        for j in X_train_cont.columns:\n",
        "            data={}\n",
        "            mean=np.mean(df_train_cont[j][df_train_cont['salary']==i].values)\n",
        "            variance=np.var(df_train_cont[j][df_train_cont['salary']==i].values)\n",
        "            data['Mean']=mean\n",
        "            data['Var']=variance\n",
        "            Dict[j+i]=data\n",
        "\n",
        "    return(Dict)       "
      ],
      "execution_count": 9,
      "outputs": []
    },
    {
      "cell_type": "markdown",
      "metadata": {
        "id": "7kLNoAgaJ3g_"
      },
      "source": [
        "df_train_cat has categorical training data. Probabilities of each 'word' given an 'Output_Value' is stored in Dict2 Fit_cat function returns this Dictionary of probabilities"
      ]
    },
    {
      "cell_type": "code",
      "metadata": {
        "id": "iZSRZ3V6J3hA"
      },
      "source": [
        "def Fit_cat(X_train_cat, YTrain):\n",
        "    Dict1 = {}\n",
        "    Dict2 = {}\n",
        "\n",
        "    df_train_cat=X_train_cat.copy()\n",
        "    df_train_cat['salary']=YTrain\n",
        "\n",
        "    for k in X_train_cat.columns.values:\n",
        "        for i in X_train_cat[k].value_counts().index:\n",
        "            for j in YTrain.value_counts().index:\n",
        "                Prob_Denom=df_train_cat[df_train_cat['salary']==j].shape[0]/df_train_cat.shape[0]\n",
        "        \n",
        "                Prob_Numer=df_train_cat[(df_train_cat[k]==i)&(df_train_cat['salary']==j)].shape[0]/df_train_cat.shape[0]\n",
        "\n",
        "                Dict2[i+j]=Prob_Numer/Prob_Denom\n",
        "            \n",
        "        Dict1[k]=Dict2\n",
        "    \n",
        "    return(Dict1)"
      ],
      "execution_count": 10,
      "outputs": []
    },
    {
      "cell_type": "markdown",
      "metadata": {
        "id": "bBSHL1W1J3hC"
      },
      "source": [
        "words in testing data but not in training data are omitted\n",
        "\n",
        "probabilities for Prob_num(word|Output_Value) for numerical data is calculated using GaussianNB formula  \n",
        "\n",
        "probabilities for Prob_cat(word|Output_Value) for categorical data is retreived from Dictionary Dict_cat\n",
        "\n",
        "These are all then multiplied for attributes of each row Naive_Bayes style to give prediction for a row\n",
        "\n",
        "Eg: Prob(Input1a, Input2a, ... InputNa|Output) x Prob(Input1b, Input2b, ...InputNb|Output) is probability of a one sample. \n",
        "\n",
        "Here Input 1a, 2a ... Na are continuous input attributes and 1b, 2b, ... Nb are categorical attributes"
      ]
    },
    {
      "cell_type": "code",
      "metadata": {
        "id": "B_z5MT6oJ3hE"
      },
      "source": [
        "def predict(X_test_cont,Dict_cont,X_test_cat,ytest,Dict_cat):\n",
        "    predict=[]\n",
        "    for i in range(0,X_test_cont.shape[0]):\n",
        "        great=0.0\n",
        "        greatest='a'\n",
        "        \n",
        "        for j in ytest.value_counts().index:\n",
        "            val1=1.0\n",
        "            val2=1.0\n",
        "            val=1.0\n",
        "            for k1 in X_test_cont.columns:\n",
        "                try:\n",
        "                    x=Dict_cont[k1+j]\n",
        "                    mean=x['Mean']\n",
        "                    variance=x['Var']\n",
        "                    #Uses Gaussian Naive Bayes formula to get probability of an output value given input (continuous value)\n",
        "                    Prob_num=(1.0/math.sqrt(2.0*math.pi*(variance**2)))*math.exp(-1.0*(((X_test_cont[k1][i]-mean)**2)/(2.0*(variance**2))))\n",
        "                \n",
        "                except KeyError:\n",
        "                    #print('Hey')\n",
        "                    continue\n",
        "                val1=val1*Prob_num\n",
        "            \n",
        "            for k2 in X_test_cat.columns:\n",
        "                try:\n",
        "                    #Uses normal Naive Bayes formula to get probability of an output value output given categorical valued input\n",
        "                    Prob_cat=Dict_cat[k2][X_test_cat[k2][i]+j]\n",
        "                except KeyError:\n",
        "                    #print('Hey1')\n",
        "                    continue\n",
        "                val2=val2*Prob_cat\n",
        "            \n",
        "            #val1 is probabilities from Gaussain Naive Bayes for output given continuous valued input\n",
        "            #val2 is probabilities from Naive Bayes for output given categorical valued input\n",
        "            val=val1*val2*((ytest[ytest==j].shape[0])/ytest.shape[0])\n",
        "                 \n",
        "            if(val>great):\n",
        "                great=val\n",
        "                greatest=j\n",
        "             \n",
        "        predict.append(greatest)\n",
        "                \n",
        "    return predict    \n",
        "                    "
      ],
      "execution_count": 13,
      "outputs": []
    },
    {
      "cell_type": "markdown",
      "metadata": {
        "id": "r8OfgPJOJ3hG"
      },
      "source": [
        "Training and testing data split 5 times, so each row of original data is once in test data\n",
        "prediction of each test data ouput combined according to test_index and compared with output of original data output values for accuracy"
      ]
    },
    {
      "cell_type": "code",
      "metadata": {
        "colab": {
          "base_uri": "https://localhost:8080/"
        },
        "id": "-cjvzRG0J3hH",
        "outputId": "ea15aa50-1d8f-45ee-b133-91d4dcec390f"
      },
      "source": [
        "from sklearn.model_selection import KFold\n",
        "kf = KFold(n_splits=5)\n",
        "\n",
        "results=pd.Series()\n",
        "\n",
        "for train_index, test_index in kf.split(df):\n",
        "    XTrain, xtest, YTrain, ytest = df.drop(columns='salary').iloc[train_index], df.drop(columns='salary').iloc[test_index], df['salary'].iloc[train_index], df['salary'].iloc[test_index]\n",
        "    \n",
        "    #Use only continuous valued input attributes of training data\n",
        "    X_train_cont=XTrain[XTrain._get_numeric_data().columns]\n",
        "\n",
        "    #Use only conitnuous valued input attributes of test data\n",
        "    X_test_cont=xtest[xtest._get_numeric_data().columns]\n",
        "\n",
        "    #Use only categorical valued input attributes of training data\n",
        "    X_train_cat=XTrain[list(set(XTrain.columns)-set(XTrain._get_numeric_data().columns))]\n",
        "\n",
        "    #Use only categorical valued input attributes of test data\n",
        "    X_test_cat=xtest[list(set(XTrain.columns)-set(xtest._get_numeric_data().columns))]\n",
        "    \n",
        "    Dict_cont={}\n",
        "    Dict_cont=Fit_cont(X_train_cont,YTrain)\n",
        "    \n",
        "    Dict_cat={}\n",
        "    Dict_cat=Fit_cat(X_train_cat, YTrain)\n",
        "    \n",
        "    predict_list=predict(X_test_cont,Dict_cont,X_test_cat,ytest,Dict_cat)\n",
        "    \n",
        "    indexes=list(test_index)\n",
        "    \n",
        "    res=pd.Series(predict_list,index=indexes)\n",
        "    results=results.append(res)\n",
        "    \n",
        "    #Accuracy for each split\n",
        "    from sklearn import metrics\n",
        "    print(\"Accuracy:\",(metrics.accuracy_score(ytest, predict_list)*100),\"%\")\n",
        "    \n",
        "print(results)    \n",
        "from sklearn import metrics\n",
        "print(\"Accuracy:\",(metrics.accuracy_score(df['salary'], results)*100),\"%\")    "
      ],
      "execution_count": 14,
      "outputs": [
        {
          "output_type": "stream",
          "text": [
            "/usr/local/lib/python3.6/dist-packages/ipykernel_launcher.py:4: DeprecationWarning: The default dtype for empty Series will be 'object' instead of 'float64' in a future version. Specify a dtype explicitly to silence this warning.\n",
            "  after removing the cwd from sys.path.\n"
          ],
          "name": "stderr"
        },
        {
          "output_type": "stream",
          "text": [
            "Accuracy: 75.87901120835252 %\n",
            "Accuracy: 76.32063882063882 %\n",
            "Accuracy: 76.21314496314497 %\n",
            "Accuracy: 75.76781326781327 %\n",
            "Accuracy: 75.42997542997543 %\n",
            "0         <=50K\n",
            "1         <=50K\n",
            "2         <=50K\n",
            "3         <=50K\n",
            "4         <=50K\n",
            "          ...  \n",
            "32556     <=50K\n",
            "32557     <=50K\n",
            "32558     <=50K\n",
            "32559     <=50K\n",
            "32560     <=50K\n",
            "Length: 32561, dtype: object\n",
            "Accuracy: 75.92211541414575 %\n"
          ],
          "name": "stdout"
        }
      ]
    }
  ]
}