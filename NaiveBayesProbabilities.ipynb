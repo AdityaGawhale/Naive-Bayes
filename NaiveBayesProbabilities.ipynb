{
  "nbformat": 4,
  "nbformat_minor": 0,
  "metadata": {
    "kernelspec": {
      "display_name": "Python 3",
      "language": "python",
      "name": "python3"
    },
    "language_info": {
      "codemirror_mode": {
        "name": "ipython",
        "version": 3
      },
      "file_extension": ".py",
      "mimetype": "text/x-python",
      "name": "python",
      "nbconvert_exporter": "python",
      "pygments_lexer": "ipython3",
      "version": "3.7.1"
    },
    "colab": {
      "name": "NaiveBayesProbabilities.ipynb",
      "provenance": [],
      "collapsed_sections": []
    }
  },
  "cells": [
    {
      "cell_type": "markdown",
      "metadata": {
        "id": "JGsbqYf7k16a"
      },
      "source": [
        "###**Probabilities concept in Naive Bayes**"
      ]
    },
    {
      "cell_type": "code",
      "metadata": {
        "id": "YCEFylNtgsHB"
      },
      "source": [
        "import pandas as pd"
      ],
      "execution_count": null,
      "outputs": []
    },
    {
      "cell_type": "code",
      "metadata": {
        "id": "20-OH6ofgsHL",
        "outputId": "29fc2074-00c7-4a39-9643-ca62976fcf62"
      },
      "source": [
        "df=pd.read_csv(\"C:/Users/Aditya/Desktop/play.csv\")\n",
        "df"
      ],
      "execution_count": null,
      "outputs": [
        {
          "output_type": "execute_result",
          "data": {
            "text/html": [
              "<div>\n",
              "<style scoped>\n",
              "    .dataframe tbody tr th:only-of-type {\n",
              "        vertical-align: middle;\n",
              "    }\n",
              "\n",
              "    .dataframe tbody tr th {\n",
              "        vertical-align: top;\n",
              "    }\n",
              "\n",
              "    .dataframe thead th {\n",
              "        text-align: right;\n",
              "    }\n",
              "</style>\n",
              "<table border=\"1\" class=\"dataframe\">\n",
              "  <thead>\n",
              "    <tr style=\"text-align: right;\">\n",
              "      <th></th>\n",
              "      <th>Day</th>\n",
              "      <th>Outlook</th>\n",
              "      <th>Humidity</th>\n",
              "      <th>Wind</th>\n",
              "      <th>Play</th>\n",
              "    </tr>\n",
              "  </thead>\n",
              "  <tbody>\n",
              "    <tr>\n",
              "      <th>0</th>\n",
              "      <td>1</td>\n",
              "      <td>Sunny</td>\n",
              "      <td>High</td>\n",
              "      <td>Weak</td>\n",
              "      <td>N</td>\n",
              "    </tr>\n",
              "    <tr>\n",
              "      <th>1</th>\n",
              "      <td>2</td>\n",
              "      <td>Sunny</td>\n",
              "      <td>High</td>\n",
              "      <td>Strong</td>\n",
              "      <td>N</td>\n",
              "    </tr>\n",
              "    <tr>\n",
              "      <th>2</th>\n",
              "      <td>3</td>\n",
              "      <td>Overcast</td>\n",
              "      <td>High</td>\n",
              "      <td>Weak</td>\n",
              "      <td>Y</td>\n",
              "    </tr>\n",
              "    <tr>\n",
              "      <th>3</th>\n",
              "      <td>4</td>\n",
              "      <td>Rain</td>\n",
              "      <td>High</td>\n",
              "      <td>Weak</td>\n",
              "      <td>Y</td>\n",
              "    </tr>\n",
              "    <tr>\n",
              "      <th>4</th>\n",
              "      <td>5</td>\n",
              "      <td>Rain</td>\n",
              "      <td>Normal</td>\n",
              "      <td>Weak</td>\n",
              "      <td>Y</td>\n",
              "    </tr>\n",
              "    <tr>\n",
              "      <th>5</th>\n",
              "      <td>6</td>\n",
              "      <td>Rain</td>\n",
              "      <td>Normal</td>\n",
              "      <td>Strong</td>\n",
              "      <td>N</td>\n",
              "    </tr>\n",
              "    <tr>\n",
              "      <th>6</th>\n",
              "      <td>7</td>\n",
              "      <td>Overcast</td>\n",
              "      <td>Normal</td>\n",
              "      <td>Strong</td>\n",
              "      <td>Y</td>\n",
              "    </tr>\n",
              "    <tr>\n",
              "      <th>7</th>\n",
              "      <td>8</td>\n",
              "      <td>Sunny</td>\n",
              "      <td>High</td>\n",
              "      <td>Weak</td>\n",
              "      <td>N</td>\n",
              "    </tr>\n",
              "    <tr>\n",
              "      <th>8</th>\n",
              "      <td>9</td>\n",
              "      <td>Sunny</td>\n",
              "      <td>Normal</td>\n",
              "      <td>Weak</td>\n",
              "      <td>Y</td>\n",
              "    </tr>\n",
              "    <tr>\n",
              "      <th>9</th>\n",
              "      <td>10</td>\n",
              "      <td>Rain</td>\n",
              "      <td>Normal</td>\n",
              "      <td>Weak</td>\n",
              "      <td>Y</td>\n",
              "    </tr>\n",
              "    <tr>\n",
              "      <th>10</th>\n",
              "      <td>11</td>\n",
              "      <td>Sunny</td>\n",
              "      <td>Normal</td>\n",
              "      <td>Strong</td>\n",
              "      <td>Y</td>\n",
              "    </tr>\n",
              "    <tr>\n",
              "      <th>11</th>\n",
              "      <td>12</td>\n",
              "      <td>Overcast</td>\n",
              "      <td>High</td>\n",
              "      <td>Strong</td>\n",
              "      <td>Y</td>\n",
              "    </tr>\n",
              "    <tr>\n",
              "      <th>12</th>\n",
              "      <td>13</td>\n",
              "      <td>Overcast</td>\n",
              "      <td>Normal</td>\n",
              "      <td>Weak</td>\n",
              "      <td>Y</td>\n",
              "    </tr>\n",
              "    <tr>\n",
              "      <th>13</th>\n",
              "      <td>14</td>\n",
              "      <td>Rain</td>\n",
              "      <td>High</td>\n",
              "      <td>Strong</td>\n",
              "      <td>N</td>\n",
              "    </tr>\n",
              "  </tbody>\n",
              "</table>\n",
              "</div>"
            ],
            "text/plain": [
              "    Day   Outlook Humidity    Wind Play\n",
              "0     1     Sunny     High    Weak    N\n",
              "1     2     Sunny     High  Strong    N\n",
              "2     3  Overcast     High    Weak    Y\n",
              "3     4      Rain     High    Weak    Y\n",
              "4     5      Rain   Normal    Weak    Y\n",
              "5     6      Rain   Normal  Strong    N\n",
              "6     7  Overcast   Normal  Strong    Y\n",
              "7     8     Sunny     High    Weak    N\n",
              "8     9     Sunny   Normal    Weak    Y\n",
              "9    10      Rain   Normal    Weak    Y\n",
              "10   11     Sunny   Normal  Strong    Y\n",
              "11   12  Overcast     High  Strong    Y\n",
              "12   13  Overcast   Normal    Weak    Y\n",
              "13   14      Rain     High  Strong    N"
            ]
          },
          "metadata": {
            "tags": []
          },
          "execution_count": 2
        }
      ]
    },
    {
      "cell_type": "code",
      "metadata": {
        "id": "qeSp4ISOgsHO",
        "outputId": "0fecbbfa-126f-4ae8-ae31-da03fc103088"
      },
      "source": [
        "df[df[\"Play\"]=='Y'].shape[0]"
      ],
      "execution_count": null,
      "outputs": [
        {
          "output_type": "execute_result",
          "data": {
            "text/plain": [
              "9"
            ]
          },
          "metadata": {
            "tags": []
          },
          "execution_count": 3
        }
      ]
    },
    {
      "cell_type": "code",
      "metadata": {
        "id": "BANhtB2ugsHP",
        "outputId": "ebb3033d-eeb3-41fa-e9f0-dd8006b7ddae"
      },
      "source": [
        "#Prob_yes=yes/yes+no\n",
        "Prob_yes=df[df[\"Play\"]=='Y'].shape[0]/df.shape[0]\n",
        "Prob_yes"
      ],
      "execution_count": null,
      "outputs": [
        {
          "output_type": "execute_result",
          "data": {
            "text/plain": [
              "0.6428571428571429"
            ]
          },
          "metadata": {
            "tags": []
          },
          "execution_count": 4
        }
      ]
    },
    {
      "cell_type": "code",
      "metadata": {
        "id": "yaagdKBggsHQ",
        "outputId": "a44d6a5d-a2e9-4c66-f52d-576ced5d5a21"
      },
      "source": [
        "#Prob_Nom is Probability of Outlook=Sunny Intersection Probability of Play=Yes\n",
        "Prob_Nom=df[(df[\"Outlook\"]=='Sunny')&(df[\"Play\"]=='Y')].shape[0]/df.shape[0]\n",
        "Prob_Nom"
      ],
      "execution_count": null,
      "outputs": [
        {
          "output_type": "execute_result",
          "data": {
            "text/plain": [
              "0.14285714285714285"
            ]
          },
          "metadata": {
            "tags": []
          },
          "execution_count": 5
        }
      ]
    },
    {
      "cell_type": "code",
      "metadata": {
        "id": "s94HrbIFgsHR",
        "outputId": "b3fda382-af1b-4ade-e6b5-8ba8b4441c41"
      },
      "source": [
        "Prob_Nom/Prob_yes"
      ],
      "execution_count": null,
      "outputs": [
        {
          "output_type": "execute_result",
          "data": {
            "text/plain": [
              "0.22222222222222218"
            ]
          },
          "metadata": {
            "tags": []
          },
          "execution_count": 6
        }
      ]
    },
    {
      "cell_type": "code",
      "metadata": {
        "id": "66rXSCgTgsHS",
        "outputId": "75112368-c2b1-421a-b1fe-3623666a0a40"
      },
      "source": [
        "#Output Column is Outlook and Given Column is Play\n",
        "\n",
        "Given_name=input(\"Enter given column name:\")\n",
        "Given_val=input(\"Enter given column value:\")\n",
        "Output_name=input(\"Enter output column name:\")\n",
        "Output_val=input(\"Enter output column value:\")"
      ],
      "execution_count": null,
      "outputs": [
        {
          "output_type": "stream",
          "text": [
            "Enter given column name:Play\n",
            "Enter given column value:Y\n",
            "Enter output column name:Outlook\n",
            "Enter output column value:Sunny\n"
          ],
          "name": "stdout"
        }
      ]
    },
    {
      "cell_type": "code",
      "metadata": {
        "id": "rBG6OHhUgsHT",
        "outputId": "2959ee75-5ec6-4468-9088-06096d9831f1"
      },
      "source": [
        "Prob_yes1=df[df[Given_name]=='Y'].shape[0]/df.shape[0]\n",
        "Prob_yes1"
      ],
      "execution_count": null,
      "outputs": [
        {
          "output_type": "execute_result",
          "data": {
            "text/plain": [
              "0.6428571428571429"
            ]
          },
          "metadata": {
            "tags": []
          },
          "execution_count": 11
        }
      ]
    },
    {
      "cell_type": "code",
      "metadata": {
        "id": "BXn0z7vDgsHT",
        "outputId": "40d67e74-0af4-4488-ebe5-cc4fd14de67d"
      },
      "source": [
        "Prob_Nom1=df[(df[Output_name]==Output_val)&(df[Given_name]==Given_val)].shape[0]/df.shape[0]\n",
        "Prob_Nom1"
      ],
      "execution_count": null,
      "outputs": [
        {
          "output_type": "execute_result",
          "data": {
            "text/plain": [
              "0.14285714285714285"
            ]
          },
          "metadata": {
            "tags": []
          },
          "execution_count": 12
        }
      ]
    },
    {
      "cell_type": "code",
      "metadata": {
        "id": "J2mRsQhSgsHU",
        "outputId": "8667e8c6-878c-478e-b460-412e395956e2"
      },
      "source": [
        "Prob_Nom1/Prob_yes1"
      ],
      "execution_count": null,
      "outputs": [
        {
          "output_type": "execute_result",
          "data": {
            "text/plain": [
              "0.22222222222222218"
            ]
          },
          "metadata": {
            "tags": []
          },
          "execution_count": 13
        }
      ]
    }
  ]
}