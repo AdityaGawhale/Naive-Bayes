{
  "nbformat": 4,
  "nbformat_minor": 0,
  "metadata": {
    "kernelspec": {
      "display_name": "Python 3",
      "language": "python",
      "name": "python3"
    },
    "language_info": {
      "codemirror_mode": {
        "name": "ipython",
        "version": 3
      },
      "file_extension": ".py",
      "mimetype": "text/x-python",
      "name": "python",
      "nbconvert_exporter": "python",
      "pygments_lexer": "ipython3",
      "version": "3.7.1"
    },
    "colab": {
      "name": "MultinomialNaiveBayesOnMessages.ipynb",
      "provenance": [],
      "collapsed_sections": []
    }
  },
  "cells": [
    {
      "cell_type": "markdown",
      "metadata": {
        "id": "sQroxKKeGeZf"
      },
      "source": [
        "Read the message data into 'df' DataFrame, label columns (The given dataset here doesn't exist anymore so replace it with any other dataset)"
      ]
    },
    {
      "cell_type": "code",
      "metadata": {
        "colab": {
          "base_uri": "https://localhost:8080/",
          "height": 204
        },
        "id": "NblEtFLhGeZr",
        "outputId": "2ccae57c-5d3e-40cc-f1d7-1a23d628ab1b"
      },
      "source": [
        "import pandas as pd\n",
        "import numpy as np\n",
        "\n",
        "df=pd.read_table(\"https://raw.githubusercontent.com/justmarkham/pycon-2016-tutorial/master/data/sms.tsv\",header=None)\n",
        "names=['label','messages']\n",
        "df.columns=names\n",
        "df.head()"
      ],
      "execution_count": 3,
      "outputs": [
        {
          "output_type": "execute_result",
          "data": {
            "text/html": [
              "<div>\n",
              "<style scoped>\n",
              "    .dataframe tbody tr th:only-of-type {\n",
              "        vertical-align: middle;\n",
              "    }\n",
              "\n",
              "    .dataframe tbody tr th {\n",
              "        vertical-align: top;\n",
              "    }\n",
              "\n",
              "    .dataframe thead th {\n",
              "        text-align: right;\n",
              "    }\n",
              "</style>\n",
              "<table border=\"1\" class=\"dataframe\">\n",
              "  <thead>\n",
              "    <tr style=\"text-align: right;\">\n",
              "      <th></th>\n",
              "      <th>label</th>\n",
              "      <th>messages</th>\n",
              "    </tr>\n",
              "  </thead>\n",
              "  <tbody>\n",
              "    <tr>\n",
              "      <th>0</th>\n",
              "      <td>ham</td>\n",
              "      <td>Go until jurong point, crazy.. Available only ...</td>\n",
              "    </tr>\n",
              "    <tr>\n",
              "      <th>1</th>\n",
              "      <td>ham</td>\n",
              "      <td>Ok lar... Joking wif u oni...</td>\n",
              "    </tr>\n",
              "    <tr>\n",
              "      <th>2</th>\n",
              "      <td>spam</td>\n",
              "      <td>Free entry in 2 a wkly comp to win FA Cup fina...</td>\n",
              "    </tr>\n",
              "    <tr>\n",
              "      <th>3</th>\n",
              "      <td>ham</td>\n",
              "      <td>U dun say so early hor... U c already then say...</td>\n",
              "    </tr>\n",
              "    <tr>\n",
              "      <th>4</th>\n",
              "      <td>ham</td>\n",
              "      <td>Nah I don't think he goes to usf, he lives aro...</td>\n",
              "    </tr>\n",
              "  </tbody>\n",
              "</table>\n",
              "</div>"
            ],
            "text/plain": [
              "  label                                           messages\n",
              "0   ham  Go until jurong point, crazy.. Available only ...\n",
              "1   ham                      Ok lar... Joking wif u oni...\n",
              "2  spam  Free entry in 2 a wkly comp to win FA Cup fina...\n",
              "3   ham  U dun say so early hor... U c already then say...\n",
              "4   ham  Nah I don't think he goes to usf, he lives aro..."
            ]
          },
          "metadata": {
            "tags": []
          },
          "execution_count": 3
        }
      ]
    },
    {
      "cell_type": "markdown",
      "metadata": {
        "id": "B-Lqqc94GeZt"
      },
      "source": [
        "Convert values in 'label' column to numerical values and store in 'label_num' column for using MultinomialNB algorithm that only takes numerical data"
      ]
    },
    {
      "cell_type": "code",
      "metadata": {
        "id": "WCd6HzYcGeZt"
      },
      "source": [
        "df['label_num'] = df.label.map({'ham':0, 'spam':1})"
      ],
      "execution_count": 5,
      "outputs": []
    },
    {
      "cell_type": "markdown",
      "metadata": {
        "id": "-FCIVPwYGeZu"
      },
      "source": [
        "The entire data is split 5 times into training and testing data such that each row of training data is once part of test data\n",
        "The results of test data after 5 splits is combined according to test_index, i.e index of the rows of original data that came in test data. Then this combined predictions is compared with output values of original data\n",
        "\n",
        "Count Vectorizer is called, Firstly the number of columns are decided based on number of disitnct words in the given data. \n",
        "Each row corresponds to a given message sentence and each column value will be the number of occurences of that distinct word (column name) in that sentence. This is all handled by CountVectorizer. \n",
        " \n",
        "CountVectorizer is internal to Jupyter Notebook, no need to import anything\n",
        "\n",
        "The parameter to initialize CountVectorizer needs to be changed since it does not recognize single words like 'a' as distinct words. For this ' token_pattern=r\"(?u)\\b\\w\\w+\\b\" ' which is a default parameter is updated to ' token_pattern=r\"(?u)\\b\\w+\\b\" ' which recognizes single words \n",
        "\n",
        "The vectorized data is converted to arrays for each message sentence\n",
        "\n",
        "MultinomialNB library is used to find probabilities of spam given a distinct word (Laplace smoothing included in formula)\n",
        "Attributes(distinct words) are indepenent -> Naive Bayes assumption\n",
        "This library is useful for text data and natural language processing"
      ]
    },
    {
      "cell_type": "code",
      "metadata": {
        "colab": {
          "base_uri": "https://localhost:8080/"
        },
        "id": "nPYceHSiGeZv",
        "outputId": "a75d4c13-4ce4-4bc8-919e-3a3b1f449992"
      },
      "source": [
        "from sklearn.feature_extraction.text import CountVectorizer\n",
        "\n",
        "from sklearn.model_selection import KFold\n",
        "kf = KFold(n_splits=5)\n",
        "\n",
        "from sklearn.naive_bayes import MultinomialNB\n",
        "nb = MultinomialNB()\n",
        "\n",
        "results=pd.Series()\n",
        "\n",
        "for train_index, test_index in kf.split(df):\n",
        "    XTrain, XTest, YTrain, ytest = df['messages'].iloc[train_index], df['messages'].iloc[test_index], df['label_num'].iloc[train_index], df['label_num'].iloc[test_index]\n",
        "    \n",
        "    cv=CountVectorizer(stop_words=None, token_pattern=r\"(?u)\\b\\w+\\b\")\n",
        "    xtrain=cv.fit_transform(XTrain)\n",
        "    xtest=cv.transform(XTest)\n",
        "    nb.fit(xtrain,YTrain)\n",
        "    predict_list = nb.predict(xtest)\n",
        "    \n",
        "    indexes=list(test_index)\n",
        "    \n",
        "    res=pd.Series(predict_list,index=indexes)\n",
        "    results=results.append(res)\n",
        "    \n",
        "results=results.sort_index()           "
      ],
      "execution_count": 6,
      "outputs": [
        {
          "output_type": "stream",
          "text": [
            "/usr/local/lib/python3.6/dist-packages/ipykernel_launcher.py:9: DeprecationWarning: The default dtype for empty Series will be 'object' instead of 'float64' in a future version. Specify a dtype explicitly to silence this warning.\n",
            "  if __name__ == '__main__':\n"
          ],
          "name": "stderr"
        }
      ]
    },
    {
      "cell_type": "code",
      "metadata": {
        "colab": {
          "base_uri": "https://localhost:8080/"
        },
        "id": "fG9lInFyGeZv",
        "outputId": "0dc1e576-5f4b-4ebc-8d70-36daba974cda"
      },
      "source": [
        "from sklearn import metrics\n",
        "print(\"Accuracy:\",(metrics.accuracy_score(df['label_num'], results)*100),\"%\")"
      ],
      "execution_count": 7,
      "outputs": [
        {
          "output_type": "stream",
          "text": [
            "Accuracy: 98.56424982053123 %\n"
          ],
          "name": "stdout"
        }
      ]
    }
  ]
}