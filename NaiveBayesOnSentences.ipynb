{
  "nbformat": 4,
  "nbformat_minor": 0,
  "metadata": {
    "kernelspec": {
      "display_name": "Python 3",
      "language": "python",
      "name": "python3"
    },
    "language_info": {
      "codemirror_mode": {
        "name": "ipython",
        "version": 3
      },
      "file_extension": ".py",
      "mimetype": "text/x-python",
      "name": "python",
      "nbconvert_exporter": "python",
      "pygments_lexer": "ipython3",
      "version": "3.7.1"
    },
    "colab": {
      "name": "NaiveBayesOnSentences.ipynb",
      "provenance": [],
      "collapsed_sections": []
    }
  },
  "cells": [
    {
      "cell_type": "code",
      "metadata": {
        "id": "Fn2949spmoVv"
      },
      "source": [
        "import pandas as pd\n",
        "import numpy as np"
      ],
      "execution_count": null,
      "outputs": []
    },
    {
      "cell_type": "markdown",
      "metadata": {
        "id": "A59SXDIEmuZh"
      },
      "source": [
        "NLP file consists of text messages and what category do they belong to (Sports and Not Sports) "
      ]
    },
    {
      "cell_type": "code",
      "metadata": {
        "id": "9RCiPy7imoWa"
      },
      "source": [
        "df=pd.read_csv(\"C:/Users/Aditya/Desktop/NLP.csv\")"
      ],
      "execution_count": null,
      "outputs": []
    },
    {
      "cell_type": "code",
      "metadata": {
        "id": "G0ZvtyfzmoWd",
        "outputId": "d8559e22-ecf6-49b0-d552-d565a6886dec"
      },
      "source": [
        "df"
      ],
      "execution_count": null,
      "outputs": [
        {
          "output_type": "execute_result",
          "data": {
            "text/html": [
              "<div>\n",
              "<style scoped>\n",
              "    .dataframe tbody tr th:only-of-type {\n",
              "        vertical-align: middle;\n",
              "    }\n",
              "\n",
              "    .dataframe tbody tr th {\n",
              "        vertical-align: top;\n",
              "    }\n",
              "\n",
              "    .dataframe thead th {\n",
              "        text-align: right;\n",
              "    }\n",
              "</style>\n",
              "<table border=\"1\" class=\"dataframe\">\n",
              "  <thead>\n",
              "    <tr style=\"text-align: right;\">\n",
              "      <th></th>\n",
              "      <th>Text</th>\n",
              "      <th>Class</th>\n",
              "    </tr>\n",
              "  </thead>\n",
              "  <tbody>\n",
              "    <tr>\n",
              "      <th>0</th>\n",
              "      <td>It was a good game</td>\n",
              "      <td>Sports</td>\n",
              "    </tr>\n",
              "    <tr>\n",
              "      <th>1</th>\n",
              "      <td>It was a well fought election</td>\n",
              "      <td>NS</td>\n",
              "    </tr>\n",
              "    <tr>\n",
              "      <th>2</th>\n",
              "      <td>What a match it was</td>\n",
              "      <td>Sports</td>\n",
              "    </tr>\n",
              "    <tr>\n",
              "      <th>3</th>\n",
              "      <td>The teams fought well</td>\n",
              "      <td>Sports</td>\n",
              "    </tr>\n",
              "    <tr>\n",
              "      <th>4</th>\n",
              "      <td>The election was</td>\n",
              "      <td>NS</td>\n",
              "    </tr>\n",
              "  </tbody>\n",
              "</table>\n",
              "</div>"
            ],
            "text/plain": [
              "                            Text   Class\n",
              "0             It was a good game  Sports\n",
              "1  It was a well fought election      NS\n",
              "2            What a match it was  Sports\n",
              "3          The teams fought well  Sports\n",
              "4               The election was      NS"
            ]
          },
          "metadata": {
            "tags": []
          },
          "execution_count": 3
        }
      ]
    },
    {
      "cell_type": "code",
      "metadata": {
        "id": "5Foh-ZoGmoWg",
        "outputId": "81d5eaa0-ae32-4f64-b368-56c51eae9b96"
      },
      "source": [
        "#creating training data (data sample/row 1,2,4)\n",
        "train=df.head(2)\n",
        "train=train.append(df.iloc[3])\n",
        "train=train.reset_index(drop=True)\n",
        "train"
      ],
      "execution_count": null,
      "outputs": [
        {
          "output_type": "execute_result",
          "data": {
            "text/html": [
              "<div>\n",
              "<style scoped>\n",
              "    .dataframe tbody tr th:only-of-type {\n",
              "        vertical-align: middle;\n",
              "    }\n",
              "\n",
              "    .dataframe tbody tr th {\n",
              "        vertical-align: top;\n",
              "    }\n",
              "\n",
              "    .dataframe thead th {\n",
              "        text-align: right;\n",
              "    }\n",
              "</style>\n",
              "<table border=\"1\" class=\"dataframe\">\n",
              "  <thead>\n",
              "    <tr style=\"text-align: right;\">\n",
              "      <th></th>\n",
              "      <th>Text</th>\n",
              "      <th>Class</th>\n",
              "    </tr>\n",
              "  </thead>\n",
              "  <tbody>\n",
              "    <tr>\n",
              "      <th>0</th>\n",
              "      <td>It was a good game</td>\n",
              "      <td>Sports</td>\n",
              "    </tr>\n",
              "    <tr>\n",
              "      <th>1</th>\n",
              "      <td>It was a well fought election</td>\n",
              "      <td>NS</td>\n",
              "    </tr>\n",
              "    <tr>\n",
              "      <th>2</th>\n",
              "      <td>The teams fought well</td>\n",
              "      <td>Sports</td>\n",
              "    </tr>\n",
              "  </tbody>\n",
              "</table>\n",
              "</div>"
            ],
            "text/plain": [
              "                            Text   Class\n",
              "0             It was a good game  Sports\n",
              "1  It was a well fought election      NS\n",
              "2          The teams fought well  Sports"
            ]
          },
          "metadata": {
            "tags": []
          },
          "execution_count": 4
        }
      ]
    },
    {
      "cell_type": "code",
      "metadata": {
        "id": "HZFbkJ-3moWk",
        "outputId": "80914fc4-ba16-47eb-a6d5-15c7e6c22fff"
      },
      "source": [
        "#creating test data (data sample/row 3,5)\n",
        "Test=df.tail(1)\n",
        "Test=Test.append(df.iloc[2])\n",
        "Test=Test.reset_index(drop=True)\n",
        "Test"
      ],
      "execution_count": null,
      "outputs": [
        {
          "output_type": "execute_result",
          "data": {
            "text/html": [
              "<div>\n",
              "<style scoped>\n",
              "    .dataframe tbody tr th:only-of-type {\n",
              "        vertical-align: middle;\n",
              "    }\n",
              "\n",
              "    .dataframe tbody tr th {\n",
              "        vertical-align: top;\n",
              "    }\n",
              "\n",
              "    .dataframe thead th {\n",
              "        text-align: right;\n",
              "    }\n",
              "</style>\n",
              "<table border=\"1\" class=\"dataframe\">\n",
              "  <thead>\n",
              "    <tr style=\"text-align: right;\">\n",
              "      <th></th>\n",
              "      <th>Text</th>\n",
              "      <th>Class</th>\n",
              "    </tr>\n",
              "  </thead>\n",
              "  <tbody>\n",
              "    <tr>\n",
              "      <th>0</th>\n",
              "      <td>The election was</td>\n",
              "      <td>NS</td>\n",
              "    </tr>\n",
              "    <tr>\n",
              "      <th>1</th>\n",
              "      <td>What a match it was</td>\n",
              "      <td>Sports</td>\n",
              "    </tr>\n",
              "  </tbody>\n",
              "</table>\n",
              "</div>"
            ],
            "text/plain": [
              "                  Text   Class\n",
              "0     The election was      NS\n",
              "1  What a match it was  Sports"
            ]
          },
          "metadata": {
            "tags": []
          },
          "execution_count": 5
        }
      ]
    },
    {
      "cell_type": "markdown",
      "metadata": {
        "id": "_gw_s5BHqpKO"
      },
      "source": [
        "####**Converting messages to numerical data -**\r\n",
        "\r\n",
        "**Method 1 : Manually**"
      ]
    },
    {
      "cell_type": "code",
      "metadata": {
        "id": "BFqr3TNopcI2"
      },
      "source": [
        "#This code is used to get distinct words from all texts with help of sets and use it as column names for df2 :\r\n",
        "col=set()\r\n",
        "\r\n",
        "colval=[1]\r\n",
        "\r\n",
        "for i in range(0,len(train['Text'])):\r\n",
        "    \r\n",
        "    #split each sentence into its words and store them as an array in list1\r\n",
        "    string=train[\"Text\"][i]\r\n",
        "    list1=string.split(\" \")\r\n",
        "        \r\n",
        "    for j in range(0,len(list1)):\r\n",
        "        col.add(list1[j])\r\n",
        "\r\n",
        "#This code is used to create train_num with all elements 0 and use set 'col' as column names for df2 :\r\n",
        "col1=list(col)\r\n",
        "\r\n",
        "train_num=pd.DataFrame(0, index=np.arange(0, train.shape[0]), columns=col1)\r\n",
        "\r\n",
        "#We put values of each column in train_num as their frequency of occurence in that row number's text message\r\n",
        "for i in range(0,len(train['Text'])):\r\n",
        "    string=train[\"Text\"][i]\r\n",
        "    list1=string.split(\" \")\r\n",
        "    for j in range(0,len(list1)):\r\n",
        "        train_num[list1[j]][i]=train_num[list1[j]][i]+1\r\n",
        "        \r\n",
        "train_num['Output']=train['Class']\r\n"
      ],
      "execution_count": null,
      "outputs": []
    },
    {
      "cell_type": "markdown",
      "metadata": {
        "id": "mLr2byZ3rTVF"
      },
      "source": [
        "**OR**\r\n",
        "\r\n",
        "**Method 2 : Using CountVectorizer**"
      ]
    },
    {
      "cell_type": "code",
      "metadata": {
        "id": "G3H46VMMmoWn",
        "outputId": "d34e38e8-1b40-4c60-eac9-1711dd60f656"
      },
      "source": [
        "#The countvectorizer will take each distinct word from each data sample and create a column for it\n",
        "#The values in this column with correspond to their frequency of occurence in correpsonding data sample/row\n",
        "from sklearn.feature_extraction.text import CountVectorizer\n",
        "\n",
        "#this token pattern recognizes single letter words like \"a\", by default the countvectorizer doesn't recognize words less than 2 letters\n",
        "cv=CountVectorizer(stop_words=None, token_pattern=r\"(?u)\\b\\w+\\b\")\n",
        "x=cv.fit_transform(train['Text'])\n",
        "arr=x.toarray()\n",
        "arr"
      ],
      "execution_count": null,
      "outputs": [
        {
          "output_type": "execute_result",
          "data": {
            "text/plain": [
              "array([[1, 0, 0, 1, 1, 1, 0, 0, 1, 0],\n",
              "       [1, 1, 1, 0, 0, 1, 0, 0, 1, 1],\n",
              "       [0, 0, 1, 0, 0, 0, 1, 1, 0, 1]], dtype=int64)"
            ]
          },
          "metadata": {
            "tags": []
          },
          "execution_count": 6
        }
      ]
    },
    {
      "cell_type": "code",
      "metadata": {
        "id": "pHsy1Gq1moWo",
        "outputId": "f1ebb588-8b74-4956-d32d-ffe087dc49f6"
      },
      "source": [
        "train_num=pd.DataFrame(arr, columns =cv.get_feature_names())\n",
        "train_num['Output']=train['Class']\n",
        "#train_num consists of each distinct word in the training data and its frequency of occurence in each corresponding row/sentence\n",
        "train_num"
      ],
      "execution_count": null,
      "outputs": [
        {
          "output_type": "execute_result",
          "data": {
            "text/html": [
              "<div>\n",
              "<style scoped>\n",
              "    .dataframe tbody tr th:only-of-type {\n",
              "        vertical-align: middle;\n",
              "    }\n",
              "\n",
              "    .dataframe tbody tr th {\n",
              "        vertical-align: top;\n",
              "    }\n",
              "\n",
              "    .dataframe thead th {\n",
              "        text-align: right;\n",
              "    }\n",
              "</style>\n",
              "<table border=\"1\" class=\"dataframe\">\n",
              "  <thead>\n",
              "    <tr style=\"text-align: right;\">\n",
              "      <th></th>\n",
              "      <th>a</th>\n",
              "      <th>election</th>\n",
              "      <th>fought</th>\n",
              "      <th>game</th>\n",
              "      <th>good</th>\n",
              "      <th>it</th>\n",
              "      <th>teams</th>\n",
              "      <th>the</th>\n",
              "      <th>was</th>\n",
              "      <th>well</th>\n",
              "      <th>Output</th>\n",
              "    </tr>\n",
              "  </thead>\n",
              "  <tbody>\n",
              "    <tr>\n",
              "      <th>0</th>\n",
              "      <td>1</td>\n",
              "      <td>0</td>\n",
              "      <td>0</td>\n",
              "      <td>1</td>\n",
              "      <td>1</td>\n",
              "      <td>1</td>\n",
              "      <td>0</td>\n",
              "      <td>0</td>\n",
              "      <td>1</td>\n",
              "      <td>0</td>\n",
              "      <td>Sports</td>\n",
              "    </tr>\n",
              "    <tr>\n",
              "      <th>1</th>\n",
              "      <td>1</td>\n",
              "      <td>1</td>\n",
              "      <td>1</td>\n",
              "      <td>0</td>\n",
              "      <td>0</td>\n",
              "      <td>1</td>\n",
              "      <td>0</td>\n",
              "      <td>0</td>\n",
              "      <td>1</td>\n",
              "      <td>1</td>\n",
              "      <td>NS</td>\n",
              "    </tr>\n",
              "    <tr>\n",
              "      <th>2</th>\n",
              "      <td>0</td>\n",
              "      <td>0</td>\n",
              "      <td>1</td>\n",
              "      <td>0</td>\n",
              "      <td>0</td>\n",
              "      <td>0</td>\n",
              "      <td>1</td>\n",
              "      <td>1</td>\n",
              "      <td>0</td>\n",
              "      <td>1</td>\n",
              "      <td>Sports</td>\n",
              "    </tr>\n",
              "  </tbody>\n",
              "</table>\n",
              "</div>"
            ],
            "text/plain": [
              "   a  election  fought  game  good  it  teams  the  was  well  Output\n",
              "0  1         0       0     1     1   1      0    0    1     0  Sports\n",
              "1  1         1       1     0     0   1      0    0    1     1      NS\n",
              "2  0         0       1     0     0   0      1    1    0     1  Sports"
            ]
          },
          "metadata": {
            "tags": []
          },
          "execution_count": 7
        }
      ]
    },
    {
      "cell_type": "code",
      "metadata": {
        "id": "UbOT9n1ymoWu",
        "outputId": "32b672cf-d17a-4b14-cfeb-1fcffb27fd62"
      },
      "source": [
        "train"
      ],
      "execution_count": null,
      "outputs": [
        {
          "output_type": "execute_result",
          "data": {
            "text/html": [
              "<div>\n",
              "<style scoped>\n",
              "    .dataframe tbody tr th:only-of-type {\n",
              "        vertical-align: middle;\n",
              "    }\n",
              "\n",
              "    .dataframe tbody tr th {\n",
              "        vertical-align: top;\n",
              "    }\n",
              "\n",
              "    .dataframe thead th {\n",
              "        text-align: right;\n",
              "    }\n",
              "</style>\n",
              "<table border=\"1\" class=\"dataframe\">\n",
              "  <thead>\n",
              "    <tr style=\"text-align: right;\">\n",
              "      <th></th>\n",
              "      <th>Text</th>\n",
              "      <th>Class</th>\n",
              "    </tr>\n",
              "  </thead>\n",
              "  <tbody>\n",
              "    <tr>\n",
              "      <th>0</th>\n",
              "      <td>It was a good game</td>\n",
              "      <td>Sports</td>\n",
              "    </tr>\n",
              "    <tr>\n",
              "      <th>1</th>\n",
              "      <td>It was a well fought election</td>\n",
              "      <td>NS</td>\n",
              "    </tr>\n",
              "    <tr>\n",
              "      <th>2</th>\n",
              "      <td>The teams fought well</td>\n",
              "      <td>Sports</td>\n",
              "    </tr>\n",
              "  </tbody>\n",
              "</table>\n",
              "</div>"
            ],
            "text/plain": [
              "                            Text   Class\n",
              "0             It was a good game  Sports\n",
              "1  It was a well fought election      NS\n",
              "2          The teams fought well  Sports"
            ]
          },
          "metadata": {
            "tags": []
          },
          "execution_count": 8
        }
      ]
    },
    {
      "cell_type": "code",
      "metadata": {
        "id": "8_jhm6dtmoWv",
        "outputId": "68e9adc8-27be-41e8-dbf3-aef3e6bde10c"
      },
      "source": [
        "Num=0\n",
        "\n",
        "Dict1={}\n",
        "\n",
        "#train_col contains all distinct values in input training data\n",
        "train_col=train_num.columns\n",
        "#train_out_col contains all distinct values of target variable/output coulumn of training data\n",
        "train_out_col=train_num['Output'].value_counts().index\n",
        "\n",
        "for i in range(0,len(train_out_col)):\n",
        "    for j in range(0,(len(train_col)-1)):\n",
        "\n",
        "        #Num is probability of a particular input value (word) and an output value occuring together in given data samples\n",
        "        #add the frequency of attribute value for that row\n",
        "        Num=train_num[train_num['Output']==train_out_col[i]][train_col[j]].sum()\n",
        "\n",
        "        #Probability of a particular output value occuring\n",
        "        denom=train_num[train_num['Output']==train_out_col[i]].sum()\n",
        "        #As denom returns a series\n",
        "        denom=denom.drop(labels=['Output'])\n",
        "\n",
        "        #Laplace smoothing (Num+1)\n",
        "        Prob=(Num+1)/(denom.sum()+len(denom[denom>0]))\n",
        "\n",
        "        #Probability of a word occuring given the output\n",
        "        print(\"P(Text=\",train_col[j],\"|\",\"Output=\",train_out_col[i],\")=\",Prob)\n",
        "        \n",
        "        #Dict1 is an array of probabilities of a word given the output\n",
        "        Dict1[train_col[j]+train_out_col[i]]=Prob\n",
        "        \n",
        "print(Dict1)"
      ],
      "execution_count": null,
      "outputs": [
        {
          "output_type": "stream",
          "text": [
            "P(Text= a | Output= Sports )= 0.1111111111111111\n",
            "P(Text= election | Output= Sports )= 0.05555555555555555\n",
            "P(Text= fought | Output= Sports )= 0.1111111111111111\n",
            "P(Text= game | Output= Sports )= 0.1111111111111111\n",
            "P(Text= good | Output= Sports )= 0.1111111111111111\n",
            "P(Text= it | Output= Sports )= 0.1111111111111111\n",
            "P(Text= teams | Output= Sports )= 0.1111111111111111\n",
            "P(Text= the | Output= Sports )= 0.1111111111111111\n",
            "P(Text= was | Output= Sports )= 0.1111111111111111\n",
            "P(Text= well | Output= Sports )= 0.1111111111111111\n",
            "P(Text= a | Output= NS )= 0.16666666666666666\n",
            "P(Text= election | Output= NS )= 0.16666666666666666\n",
            "P(Text= fought | Output= NS )= 0.16666666666666666\n",
            "P(Text= game | Output= NS )= 0.08333333333333333\n",
            "P(Text= good | Output= NS )= 0.08333333333333333\n",
            "P(Text= it | Output= NS )= 0.16666666666666666\n",
            "P(Text= teams | Output= NS )= 0.08333333333333333\n",
            "P(Text= the | Output= NS )= 0.08333333333333333\n",
            "P(Text= was | Output= NS )= 0.16666666666666666\n",
            "P(Text= well | Output= NS )= 0.16666666666666666\n",
            "{'aSports': 0.1111111111111111, 'electionSports': 0.05555555555555555, 'foughtSports': 0.1111111111111111, 'gameSports': 0.1111111111111111, 'goodSports': 0.1111111111111111, 'itSports': 0.1111111111111111, 'teamsSports': 0.1111111111111111, 'theSports': 0.1111111111111111, 'wasSports': 0.1111111111111111, 'wellSports': 0.1111111111111111, 'aNS': 0.16666666666666666, 'electionNS': 0.16666666666666666, 'foughtNS': 0.16666666666666666, 'gameNS': 0.08333333333333333, 'goodNS': 0.08333333333333333, 'itNS': 0.16666666666666666, 'teamsNS': 0.08333333333333333, 'theNS': 0.08333333333333333, 'wasNS': 0.16666666666666666, 'wellNS': 0.16666666666666666}\n"
          ],
          "name": "stdout"
        }
      ]
    },
    {
      "cell_type": "code",
      "metadata": {
        "id": "JdaYKU84moWw",
        "outputId": "c66a64c0-f725-419f-9cb1-365eacce3bd9"
      },
      "source": [
        "count=0\n",
        "\n",
        "for k in range(0,Test.shape[0]):\n",
        "    #split test sample sentence into words\n",
        "    test_sentence=(Test['Text'][k]).split(\" \")\n",
        "    colnames=list(train_num.columns)\n",
        "    print(test_sentence)\n",
        "\n",
        "    Mul=1\n",
        "    Greatest=0\n",
        "    Greatest_Output='hi'\n",
        "\n",
        "    for i in range(0,len(train_out_col)):\n",
        "        Mul=1\n",
        "        for j in range(0,len(test_sentence)):\n",
        "            #check if word occuring in test sample sentence occurs in training sample sentences (for finding that word's probability in our dictionary )\n",
        "            try:\n",
        "                a=colnames.index(test_sentence[j])\n",
        "            except ValueError:\n",
        "                print(test_sentence[j])\n",
        "                continue\n",
        "            \n",
        "            print(\"Dict:\",Dict1[test_sentence[j]+train_out_col[i]])\n",
        "            Mul=Dict1[test_instance[j]+train_out_col[i]]*Mul\n",
        "            print(Mul)\n",
        "\n",
        "        #P(Output|Input1,Input2,...Inputn)=P(Input1,Input2,....Inputn|Output).P(Output)\n",
        "        Mul=Mul*(train_num[train_num['Output']==train_out_col[i]].shape[0])/(train_num.shape[0])\n",
        "      \n",
        "        #Probabilities being compared of each outcome(Sports or Not Sports) given the words of the sentence    \n",
        "        if(Mul>Greatest):\n",
        "            Greatest=Mul\n",
        "            print(Greatest)\n",
        "            Greatest_Output=train_out_col[i]\n",
        "        \n",
        "    print(Test['Text'][k],\"is classified as:\",Greatest_Output)\n",
        "    if(Greatest_Output==Test['Class'][k]):\n",
        "        count=count+1\n",
        "\n",
        "#Accuracy of prediction\n",
        "print(\"Accuracy:\",(count/Test.shape[0])) "
      ],
      "execution_count": null,
      "outputs": [
        {
          "output_type": "stream",
          "text": [
            "['The', 'election', 'was']\n",
            "The\n",
            "Dict: 0.05555555555555555\n",
            "0.05555555555555555\n",
            "Dict: 0.1111111111111111\n",
            "0.006172839506172839\n",
            "0.004115226337448559\n",
            "The\n",
            "Dict: 0.16666666666666666\n",
            "0.16666666666666666\n",
            "Dict: 0.16666666666666666\n",
            "0.027777777777777776\n",
            "0.009259259259259259\n",
            "The election was is classified as: NS\n",
            "['What', 'a', 'match', 'it', 'was']\n",
            "What\n",
            "Dict: 0.1111111111111111\n",
            "0.1111111111111111\n",
            "match\n",
            "Dict: 0.1111111111111111\n",
            "0.012345679012345678\n",
            "Dict: 0.1111111111111111\n",
            "0.0013717421124828531\n",
            "0.0009144947416552355\n",
            "What\n",
            "Dict: 0.16666666666666666\n",
            "0.16666666666666666\n",
            "match\n",
            "Dict: 0.16666666666666666\n",
            "0.027777777777777776\n",
            "Dict: 0.16666666666666666\n",
            "0.004629629629629629\n",
            "0.0015432098765432098\n",
            "What a match it was is classified as: NS\n",
            "Accuracy: 0.5\n"
          ],
          "name": "stdout"
        }
      ]
    },
    {
      "cell_type": "markdown",
      "metadata": {
        "id": "Tat6aKvaqP8G"
      },
      "source": [
        "Accuracy is less due to small training sample (50-50 split)"
      ]
    }
  ]
}